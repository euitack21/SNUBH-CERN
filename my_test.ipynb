{
 "cells": [
  {
   "cell_type": "code",
   "execution_count": 1,
   "metadata": {},
   "outputs": [
    {
     "name": "stderr",
     "output_type": "stream",
     "text": [
      "Using TensorFlow backend.\n"
     ]
    }
   ],
   "source": [
    "import numpy as np\n",
    "from tensorflow.keras.models import Sequential\n",
    "from tensorflow.keras.layers import Dense, Flatten, Conv2D, MaxPooling2D\n",
    "from keras.preprocessing.image import ImageDataGenerator\n",
    "from sklearn.metrics import classification_report, confusion_matrix\n",
    "import os\n",
    "import tensorflow as tf"
   ]
  },
  {
   "cell_type": "code",
   "execution_count": 2,
   "metadata": {},
   "outputs": [],
   "source": [
    "os.environ[\"CUDA_VISIBLE_DEVICES\"]='6'"
   ]
  },
  {
   "cell_type": "code",
   "execution_count": 3,
   "metadata": {},
   "outputs": [
    {
     "name": "stdout",
     "output_type": "stream",
     "text": [
      "Found 794 images belonging to 2 classes.\n",
      "Found 198 images belonging to 2 classes.\n",
      "Found 247 images belonging to 2 classes.\n",
      "WARNING:tensorflow:From /home/anaconda/anaconda3/envs/snubh/lib/python3.6/site-packages/tensorflow_core/python/ops/resource_variable_ops.py:1630: calling BaseResourceVariable.__init__ (from tensorflow.python.ops.resource_variable_ops) with constraint is deprecated and will be removed in a future version.\n",
      "Instructions for updating:\n",
      "If using Keras pass *_constraint arguments to layers.\n",
      "Epoch 1/10\n",
      "10/10 [==============================] - 7s 660ms/step - loss: 5.3840 - accuracy: 0.6938 - val_loss: 0.0101 - val_accuracy: 0.9937\n",
      "Epoch 2/10\n",
      "10/10 [==============================] - 1s 65ms/step - loss: 0.3239 - accuracy: 0.9416 - val_loss: 8.2333e-04 - val_accuracy: 1.0000\n",
      "Epoch 3/10\n",
      "10/10 [==============================] - 0s 44ms/step - loss: 0.1263 - accuracy: 0.9750 - val_loss: 0.1052 - val_accuracy: 0.9625\n",
      "Epoch 4/10\n",
      "10/10 [==============================] - 0s 45ms/step - loss: 0.0502 - accuracy: 0.9875 - val_loss: 0.0216 - val_accuracy: 0.9875\n",
      "Epoch 5/10\n",
      "10/10 [==============================] - 1s 54ms/step - loss: 0.0111 - accuracy: 1.0000 - val_loss: 0.0060 - val_accuracy: 1.0000\n",
      "Epoch 6/10\n",
      "10/10 [==============================] - 1s 52ms/step - loss: 0.0067 - accuracy: 1.0000 - val_loss: 0.0058 - val_accuracy: 1.0000\n",
      "Epoch 7/10\n",
      "10/10 [==============================] - 0s 45ms/step - loss: 2.4458e-04 - accuracy: 1.0000 - val_loss: 0.0188 - val_accuracy: 0.9937\n",
      "Epoch 8/10\n",
      "10/10 [==============================] - 0s 44ms/step - loss: 5.5849e-04 - accuracy: 1.0000 - val_loss: 0.0014 - val_accuracy: 1.0000\n",
      "Epoch 9/10\n",
      "10/10 [==============================] - 0s 43ms/step - loss: 0.0164 - accuracy: 0.9870 - val_loss: 0.0483 - val_accuracy: 0.9750\n",
      "Epoch 10/10\n",
      "10/10 [==============================] - 1s 54ms/step - loss: 6.5106e-04 - accuracy: 1.0000 - val_loss: 2.1528e-05 - val_accuracy: 1.0000\n",
      "-- Evaluate --\n",
      "accuracy: 100.00%\n"
     ]
    }
   ],
   "source": [
    "with tf.compat.v1.Session() as sess:\n",
    "    \n",
    "    # 1. Data Reading\n",
    "    train_datagen = ImageDataGenerator(rescale=1./255)\n",
    "    train_generator = train_datagen.flow_from_directory(\n",
    "        '/home/bigdata/sample_test/sample_set/training',\n",
    "        target_size=(256, 256),\n",
    "        batch_size=16,\n",
    "        color_mode='grayscale',\n",
    "        class_mode='categorical')\n",
    "\n",
    "    validation_datagen = ImageDataGenerator(rescale=1./255)\n",
    "    validation_generator = validation_datagen.flow_from_directory(\n",
    "        '/home/bigdata/sample_test/sample_set/validation',\n",
    "        target_size=(256, 256),    \n",
    "        batch_size=16,\n",
    "        color_mode='grayscale',\n",
    "        class_mode='categorical')\n",
    "\n",
    "    test_datagen = ImageDataGenerator(rescale=1./255)\n",
    "    test_generator = test_datagen.flow_from_directory(\n",
    "        '/home/bigdata/sample_test/sample_set/test',\n",
    "        target_size=(256, 256),\n",
    "        color_mode='grayscale',\n",
    "        class_mode='categorical',\n",
    "        shuffle=False)\n",
    "\n",
    "    # 2. Model Construction\n",
    "    model = Sequential()\n",
    "    model.add(Conv2D(32, kernel_size=(3, 3),\n",
    "                 activation='relu',\n",
    "                 input_shape=(256,256,1)))\n",
    "    model.add(Conv2D(64, (3, 3), activation='relu'))\n",
    "    model.add(MaxPooling2D(pool_size=(2, 2)))\n",
    "    model.add(Flatten())\n",
    "    model.add(Dense(100, activation='relu'))\n",
    "    model.add(Dense(2, activation='softmax'))\n",
    "    \n",
    "    # 3. Setting Model Hyper-parameter\n",
    "    model.compile(loss='categorical_crossentropy', optimizer='adam', metrics=['accuracy'])\n",
    "    \n",
    "    # 4. Model Training\n",
    "    model.fit_generator(\n",
    "        train_generator,\n",
    "        steps_per_epoch=10,\n",
    "        epochs=10,\n",
    "        validation_data=validation_generator,\n",
    "        validation_steps=10)\n",
    "    \n",
    "    # 5. Model Evaluation\n",
    "    print(\"-- Evaluate --\")\n",
    "    scores = model.evaluate_generator(validation_generator, steps=5)\n",
    "    print(\"%s: %.2f%%\" %(model.metrics_names[1], scores[1]*100))\n",
    "\n",
    "    # 6. Save Model\n",
    "    #from keras.models import load_model\n",
    "    model.save('mnist_mlp_model.h5')\n"
   ]
  }
 ],
 "metadata": {
  "kernelspec": {
   "display_name": "Python 3",
   "language": "python",
   "name": "python3"
  },
  "language_info": {
   "codemirror_mode": {
    "name": "ipython",
    "version": 3
   },
   "file_extension": ".py",
   "mimetype": "text/x-python",
   "name": "python",
   "nbconvert_exporter": "python",
   "pygments_lexer": "ipython3",
   "version": "3.6.9"
  }
 },
 "nbformat": 4,
 "nbformat_minor": 2
}
