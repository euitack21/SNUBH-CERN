{
 "cells": [
  {
   "cell_type": "code",
   "execution_count": 1,
   "metadata": {},
   "outputs": [
    {
     "name": "stderr",
     "output_type": "stream",
     "text": [
      "Using TensorFlow backend.\n"
     ]
    }
   ],
   "source": [
    "import numpy as np\n",
    "from tensorflow.keras.models import Sequential\n",
    "from tensorflow.keras.layers import Dense, Flatten, Conv2D, MaxPooling2D\n",
    "from keras.preprocessing.image import ImageDataGenerator\n",
    "from sklearn.metrics import classification_report, confusion_matrix\n",
    "import os\n",
    "import tensorflow as tf"
   ]
  },
  {
   "cell_type": "code",
   "execution_count": 2,
   "metadata": {},
   "outputs": [],
   "source": [
    "os.environ[\"CUDA_VISIBLE_DEVICES\"]='5'"
   ]
  },
  {
   "cell_type": "code",
   "execution_count": 3,
   "metadata": {},
   "outputs": [
    {
     "name": "stdout",
     "output_type": "stream",
     "text": [
      "Found 247 images belonging to 2 classes.\n",
      "WARNING:tensorflow:From /home/anaconda/anaconda3/envs/snubh/lib/python3.6/site-packages/tensorflow_core/python/ops/resource_variable_ops.py:1630: calling BaseResourceVariable.__init__ (from tensorflow.python.ops.resource_variable_ops) with constraint is deprecated and will be removed in a future version.\n",
      "Instructions for updating:\n",
      "If using Keras pass *_constraint arguments to layers.\n",
      "Confusion Matrix\n",
      "\n",
      "[[150   0]\n",
      " [  0  97]]\n",
      "=====================================================\n",
      "Classification Report\n",
      "\n",
      "              precision    recall  f1-score   support\n",
      "\n",
      "          AP       1.00      1.00      1.00       150\n",
      "         Lat       1.00      1.00      1.00        97\n",
      "\n",
      "    accuracy                           1.00       247\n",
      "   macro avg       1.00      1.00      1.00       247\n",
      "weighted avg       1.00      1.00      1.00       247\n",
      "\n"
     ]
    }
   ],
   "source": [
    "with tf.compat.v1.Session() as sess:\n",
    "    \n",
    "    # 1. 데이터 생성하기\n",
    "    test_datagen = ImageDataGenerator(rescale=1./255)\n",
    "    test_generator = test_datagen.flow_from_directory(\n",
    "        '/home/bigdata/sample_test/sample_set/test',\n",
    "        target_size=(256, 256),\n",
    "        color_mode='grayscale',\n",
    "        class_mode='categorical',\n",
    "        shuffle=False)\n",
    "    \n",
    "    # 2. 모델 불러오기\n",
    "    from keras.models import load_model\n",
    "    model = tf.keras.models.load_model('mnist_mlp_model.h5')\n",
    "\n",
    "    # 6. 모델 사용하기\n",
    "    output = model.predict_generator(test_generator)\n",
    "    y_pred = np.argmax(output, axis=1) # y_pred : 예측 값\n",
    "    print('Confusion Matrix\\n')\n",
    "    print(confusion_matrix(test_generator.classes, y_pred))\n",
    "    print('=====================================================')\n",
    "    print('Classification Report\\n')\n",
    "    target_names = ['AP', 'Lat']\n",
    "    print(classification_report(test_generator.classes, y_pred, target_names=target_names))"
   ]
  }
 ],
 "metadata": {
  "kernelspec": {
   "display_name": "Python 3",
   "language": "python",
   "name": "python3"
  },
  "language_info": {
   "codemirror_mode": {
    "name": "ipython",
    "version": 3
   },
   "file_extension": ".py",
   "mimetype": "text/x-python",
   "name": "python",
   "nbconvert_exporter": "python",
   "pygments_lexer": "ipython3",
   "version": "3.6.9"
  }
 },
 "nbformat": 4,
 "nbformat_minor": 2
}
